{
 "cells": [
  {
   "cell_type": "code",
   "execution_count": null,
   "id": "02c9cc8e",
   "metadata": {},
   "outputs": [],
   "source": [
    "# Packages / libraries\n",
    "import os #provides functions for interacting with the operating system\n",
    "import numpy as np \n",
    "import pandas as pd\n",
    "from matplotlib import pyplot as plt\n",
    "import seaborn as sns\n",
    "\n",
    "%matplotlib inline\n",
    "\n",
    "# To install sklearn type \"pip install numpy scipy scikit-learn\" to the anaconda terminal\n",
    "\n",
    "# To change scientific numbers to float\n",
    "np.set_printoptions(formatter={'float_kind':'{:f}'.format})\n",
    "\n",
    "# Increases the size of sns plots\n",
    "sns.set(rc={'figure.figsize':(8,6)})\n",
    "\n",
    "#ARIMA\n",
    "from statsmodels.tsa.arima_model import ARIMA\n",
    "from statsmodels.tsa.api import ExponentialSmoothing, SimpleExpSmoothing, Holt\n",
    "\n",
    "from sklearn.metrics import mean_squared_error\n",
    "from sklearn.linear_model import LinearRegression\n",
    "from sklearn import linear_model\n",
    "\n",
    "import pmdarima as pm\n",
    "from pmdarima.model_selection import train_test_split\n",
    "\n",
    "from pandas import to_datetime\n",
    "\n",
    "import itertools\n",
    "import warnings\n",
    "\n",
    "import datetime\n",
    "from datetime import datetime\n",
    "warnings.filterwarnings('ignore')\n",
    "\n"
   ]
  },
  {
   "cell_type": "markdown",
   "id": "e4b4fd20",
   "metadata": {},
   "source": [
    "#### Read  Data"
   ]
  },
  {
   "cell_type": "code",
   "execution_count": null,
   "id": "58aa9bf4",
   "metadata": {},
   "outputs": [],
   "source": [
    "dataframe=pd.read_csv(\"Index2018.csv\")"
   ]
  },
  {
   "cell_type": "code",
   "execution_count": null,
   "id": "afc53600",
   "metadata": {},
   "outputs": [],
   "source": [
    "df=dataframe.copy()"
   ]
  },
  {
   "cell_type": "code",
   "execution_count": null,
   "id": "2406e35b",
   "metadata": {},
   "outputs": [],
   "source": [
    "df.head()"
   ]
  },
  {
   "cell_type": "code",
   "execution_count": null,
   "id": "f185fff3",
   "metadata": {},
   "outputs": [],
   "source": [
    "df.describe()"
   ]
  },
  {
   "cell_type": "code",
   "execution_count": null,
   "id": "ac9a22ef",
   "metadata": {},
   "outputs": [],
   "source": [
    "df['spx'].plot.hist(edgecolor='k')"
   ]
  },
  {
   "cell_type": "code",
   "execution_count": null,
   "id": "4ee1e0a8",
   "metadata": {},
   "outputs": [],
   "source": [
    "df.isna().sum()"
   ]
  },
  {
   "cell_type": "code",
   "execution_count": null,
   "id": "3dc536a9",
   "metadata": {},
   "outputs": [],
   "source": [
    "df.shape"
   ]
  },
  {
   "cell_type": "code",
   "execution_count": null,
   "id": "9d122f5f",
   "metadata": {},
   "outputs": [],
   "source": [
    "df.info"
   ]
  },
  {
   "cell_type": "code",
   "execution_count": null,
   "id": "e50636af",
   "metadata": {},
   "outputs": [],
   "source": [
    "df.columns"
   ]
  },
  {
   "cell_type": "markdown",
   "id": "becc328d",
   "metadata": {},
   "source": [
    "#### Plotting"
   ]
  },
  {
   "cell_type": "code",
   "execution_count": null,
   "id": "05f2282e",
   "metadata": {},
   "outputs": [],
   "source": [
    "df.spx.plot(figsize=(20,5),color=\"Red\")\n",
    "plt.title('spx',size=24)\n",
    "plt.show()"
   ]
  },
  {
   "cell_type": "code",
   "execution_count": null,
   "id": "8b60b72d",
   "metadata": {},
   "outputs": [],
   "source": [
    "df.spx.plot(figsize=(20,5))\n",
    "df.rolling(window=7).mean()['spx'].plot(figsize=(20,5),c=\"Red\")\n",
    "plt.title('spx',size=24)\n",
    "plt.show()"
   ]
  },
  {
   "cell_type": "code",
   "execution_count": null,
   "id": "177ac412",
   "metadata": {},
   "outputs": [],
   "source": [
    "df.plot(figsize=(20,5),)\n",
    "plt.title('ALL',size=24)\n",
    "plt.show()"
   ]
  },
  {
   "cell_type": "code",
   "execution_count": null,
   "id": "ac755866",
   "metadata": {},
   "outputs": [],
   "source": [
    "dataplot=sns.heatmap(df.corr(),cmap=\"YlGnBu\",annot=True)\n",
    "plt.show()"
   ]
  },
  {
   "cell_type": "code",
   "execution_count": null,
   "id": "d9c2fc3d",
   "metadata": {},
   "outputs": [],
   "source": []
  },
  {
   "cell_type": "markdown",
   "id": "ccc39c23",
   "metadata": {},
   "source": [
    "#### QQ plot"
   ]
  },
  {
   "cell_type": "code",
   "execution_count": null,
   "id": "1e182c22",
   "metadata": {},
   "outputs": [],
   "source": [
    "import scipy.stats\n",
    "import pylab"
   ]
  },
  {
   "cell_type": "code",
   "execution_count": null,
   "id": "db006285",
   "metadata": {},
   "outputs": [],
   "source": [
    "scipy.stats.probplot(df.spx, plot = pylab)\n",
    "plt.title(\"QQ Plot\", size = 24)\n",
    "pylab.show()"
   ]
  },
  {
   "cell_type": "code",
   "execution_count": null,
   "id": "8a59cdc3",
   "metadata": {},
   "outputs": [],
   "source": []
  },
  {
   "cell_type": "markdown",
   "id": "f5c3416c",
   "metadata": {},
   "source": [
    "#### PreProcess"
   ]
  },
  {
   "cell_type": "code",
   "execution_count": null,
   "id": "14a9d3db",
   "metadata": {},
   "outputs": [],
   "source": [
    "df.date=pd.to_datetime(df.date,dayfirst=True)"
   ]
  },
  {
   "cell_type": "code",
   "execution_count": null,
   "id": "3e97d495",
   "metadata": {},
   "outputs": [],
   "source": [
    "df=df.set_index(\"date\")"
   ]
  },
  {
   "cell_type": "code",
   "execution_count": null,
   "id": "14407784",
   "metadata": {},
   "outputs": [],
   "source": [
    "df=df.asfreq(\"b\")"
   ]
  },
  {
   "cell_type": "code",
   "execution_count": null,
   "id": "2ba615e4",
   "metadata": {},
   "outputs": [],
   "source": [
    "df.isnull().sum()"
   ]
  },
  {
   "cell_type": "code",
   "execution_count": null,
   "id": "9963c0ef",
   "metadata": {},
   "outputs": [],
   "source": [
    "df.spx=df.spx.fillna(method=\"ffill\")"
   ]
  },
  {
   "cell_type": "code",
   "execution_count": null,
   "id": "a6606832",
   "metadata": {},
   "outputs": [],
   "source": [
    "df.ftse=df.ftse.fillna(method=\"bfill\")"
   ]
  },
  {
   "cell_type": "code",
   "execution_count": null,
   "id": "8d53a5cb",
   "metadata": {},
   "outputs": [],
   "source": [
    "df.dax=df.dax.fillna(value=df.dax.mean())"
   ]
  },
  {
   "cell_type": "code",
   "execution_count": null,
   "id": "717d49cb",
   "metadata": {},
   "outputs": [],
   "source": [
    "df.nikkei =df.nikkei.fillna(method=\"ffill\")"
   ]
  },
  {
   "cell_type": "code",
   "execution_count": null,
   "id": "d89a9241",
   "metadata": {},
   "outputs": [],
   "source": [
    "df.isnull().sum()"
   ]
  },
  {
   "cell_type": "code",
   "execution_count": null,
   "id": "d2228aeb",
   "metadata": {},
   "outputs": [],
   "source": [
    "df['market_value']=df.spx"
   ]
  },
  {
   "cell_type": "code",
   "execution_count": null,
   "id": "882e1a41",
   "metadata": {},
   "outputs": [],
   "source": [
    "df=df.drop([\"spx\",\"dax\",\"ftse\",\"nikkei\"],axis=1)"
   ]
  },
  {
   "cell_type": "code",
   "execution_count": null,
   "id": "03504101",
   "metadata": {},
   "outputs": [],
   "source": [
    "df.head()"
   ]
  },
  {
   "cell_type": "code",
   "execution_count": null,
   "id": "a434192d",
   "metadata": {},
   "outputs": [],
   "source": [
    "df[\"market_value\"].value_counts()"
   ]
  },
  {
   "cell_type": "markdown",
   "id": "e654f2d1",
   "metadata": {},
   "source": [
    "#### data inspection "
   ]
  },
  {
   "cell_type": "code",
   "execution_count": null,
   "id": "5b593f16",
   "metadata": {},
   "outputs": [],
   "source": [
    "import statsmodels\n",
    "import statsmodels.tsa.stattools as sts"
   ]
  },
  {
   "cell_type": "code",
   "execution_count": null,
   "id": "d3c27452",
   "metadata": {},
   "outputs": [],
   "source": [
    "sts.adfuller(df.market_value)"
   ]
  },
  {
   "cell_type": "code",
   "execution_count": null,
   "id": "0e323b1d",
   "metadata": {},
   "outputs": [],
   "source": [
    "#Ho: It is non stationary\n",
    "#H1: It is stationary\n",
    "\n",
    "def adfuller_test(sales):\n",
    "    result=sts.adfuller(sales)\n",
    "    labels = ['ADF Test Statistic','p-value','#Lags Used','Number of Observations Used']\n",
    "    for value,label in zip(result,labels):\n",
    "        print(label+' : '+str(value) )\n",
    "    if result[1] <= 0.05:\n",
    "        print(\"strong evidence against the null hypothesis(Ho), reject the null hypothesis. Data has no unit root and is stationary\")\n",
    "    else:\n",
    "        print(\"weak evidence against null hypothesis, time series has a unit root, indicating it is non-stationary \")"
   ]
  },
  {
   "cell_type": "code",
   "execution_count": null,
   "id": "82d60a9f",
   "metadata": {},
   "outputs": [],
   "source": [
    "adfuller_test(df.market_value)"
   ]
  },
  {
   "cell_type": "code",
   "execution_count": null,
   "id": "9127e314",
   "metadata": {},
   "outputs": [],
   "source": [
    "df1=df['1994-01-07':'1995-01-07']"
   ]
  },
  {
   "cell_type": "code",
   "execution_count": null,
   "id": "a78b4e3a",
   "metadata": {},
   "outputs": [],
   "source": [
    "df1.head()"
   ]
  },
  {
   "cell_type": "code",
   "execution_count": null,
   "id": "a8494b08",
   "metadata": {},
   "outputs": [],
   "source": [
    "df1.plot(figsize=(20,5),title=\"One year\")\n",
    "plt.show()\n",
    "# df1.plot(style='k.',figsize=(20,5),title=\"One year\")\n",
    "# plt.show()"
   ]
  },
  {
   "cell_type": "code",
   "execution_count": null,
   "id": "80ac501b",
   "metadata": {},
   "outputs": [],
   "source": []
  },
  {
   "cell_type": "code",
   "execution_count": null,
   "id": "7f48796f",
   "metadata": {},
   "outputs": [],
   "source": [
    "# sesonality constant so we should use additive"
   ]
  },
  {
   "cell_type": "code",
   "execution_count": null,
   "id": "f0c3355e",
   "metadata": {},
   "outputs": [],
   "source": []
  },
  {
   "cell_type": "code",
   "execution_count": null,
   "id": "494b6199",
   "metadata": {},
   "outputs": [],
   "source": [
    "from statsmodels.tsa.seasonal import seasonal_decompose\n",
    "from pylab import rcParams"
   ]
  },
  {
   "cell_type": "code",
   "execution_count": null,
   "id": "e73ad232",
   "metadata": {},
   "outputs": [],
   "source": [
    "s_dec_aditive=seasonal_decompose(df.market_value,model=\"additive\")\n",
    "rcParams['figure.figsize']=12,6\n",
    "s_dec_aditive.plot()\n",
    "plt.show()"
   ]
  },
  {
   "cell_type": "code",
   "execution_count": null,
   "id": "b89ac1b9",
   "metadata": {},
   "outputs": [],
   "source": [
    "# s_dec_muli=seasonal_decompose(df.market_value,model=\"multiplicative\")\n",
    "# s_dec_muli.plot()\n",
    "# plt.show()"
   ]
  },
  {
   "cell_type": "code",
   "execution_count": null,
   "id": "a6ad7f4f",
   "metadata": {},
   "outputs": [],
   "source": [
    "#significant or not"
   ]
  },
  {
   "cell_type": "code",
   "execution_count": null,
   "id": "30876fb5",
   "metadata": {},
   "outputs": [],
   "source": [
    "import statsmodels.graphics.tsaplots as sgt"
   ]
  },
  {
   "cell_type": "code",
   "execution_count": null,
   "id": "ecaec637",
   "metadata": {},
   "outputs": [],
   "source": [
    "sgt.plot_acf(df.market_value,lags=40,zero=False)\n",
    "plt.title(\"ACF&MV\")\n",
    "plt.show()"
   ]
  },
  {
   "cell_type": "code",
   "execution_count": null,
   "id": "4543edac",
   "metadata": {},
   "outputs": [],
   "source": [
    "sgt.plot_pacf(df.market_value,lags=40,zero=False,method=(\"ols\"))\n",
    "plt.title(\"PACF&Rw\")\n",
    "plt.show()"
   ]
  },
  {
   "cell_type": "code",
   "execution_count": null,
   "id": "51903f3d",
   "metadata": {},
   "outputs": [],
   "source": []
  },
  {
   "cell_type": "markdown",
   "id": "ff1b1581",
   "metadata": {},
   "source": [
    "#### to make dta stable"
   ]
  },
  {
   "cell_type": "code",
   "execution_count": null,
   "id": "a57d3de9",
   "metadata": {},
   "outputs": [],
   "source": [
    "from statsmodels.tsa.statespace.tools import diff"
   ]
  },
  {
   "cell_type": "code",
   "execution_count": null,
   "id": "9cd453e0",
   "metadata": {},
   "outputs": [],
   "source": [
    "df[\"diff_1\"]=diff(df[\"market_value\"],k_diff=1)"
   ]
  },
  {
   "cell_type": "code",
   "execution_count": null,
   "id": "189f3b6a",
   "metadata": {},
   "outputs": [],
   "source": [
    "df.head()"
   ]
  },
  {
   "cell_type": "code",
   "execution_count": null,
   "id": "59e1ccc5",
   "metadata": {},
   "outputs": [],
   "source": [
    "df.dropna(inplace=True)"
   ]
  },
  {
   "cell_type": "code",
   "execution_count": null,
   "id": "44ac40f0",
   "metadata": {},
   "outputs": [],
   "source": [
    "df.head()"
   ]
  },
  {
   "cell_type": "code",
   "execution_count": null,
   "id": "4819dec8",
   "metadata": {},
   "outputs": [],
   "source": [
    "adfuller_test(df.diff_1)"
   ]
  },
  {
   "cell_type": "code",
   "execution_count": null,
   "id": "40417fd2",
   "metadata": {},
   "outputs": [],
   "source": [
    "cor=df.corrwith(df.diff_1, axis=0, drop=False, method='pearson')\n",
    "cor"
   ]
  },
  {
   "cell_type": "code",
   "execution_count": null,
   "id": "9f003dca",
   "metadata": {},
   "outputs": [],
   "source": []
  },
  {
   "cell_type": "code",
   "execution_count": null,
   "id": "984bed50",
   "metadata": {},
   "outputs": [],
   "source": [
    "#plot Both of them"
   ]
  },
  {
   "cell_type": "code",
   "execution_count": null,
   "id": "1110f188",
   "metadata": {},
   "outputs": [],
   "source": []
  },
  {
   "cell_type": "markdown",
   "id": "e55d1857",
   "metadata": {},
   "source": [
    "### Simple model "
   ]
  },
  {
   "cell_type": "code",
   "execution_count": null,
   "id": "eff6dad6",
   "metadata": {},
   "outputs": [],
   "source": [
    "from sklearn.metrics import mean_squared_error"
   ]
  },
  {
   "cell_type": "code",
   "execution_count": null,
   "id": "5b2583c1",
   "metadata": {},
   "outputs": [],
   "source": [
    "MSE=mean_squared_error(df.market_value,df.diff_1)\n",
    "print(np.sqrt(MSE))"
   ]
  },
  {
   "cell_type": "code",
   "execution_count": null,
   "id": "9358d602",
   "metadata": {},
   "outputs": [],
   "source": []
  },
  {
   "cell_type": "code",
   "execution_count": null,
   "id": "12614402",
   "metadata": {},
   "outputs": [],
   "source": []
  },
  {
   "cell_type": "markdown",
   "id": "e737262a",
   "metadata": {},
   "source": [
    "#### splitting data"
   ]
  },
  {
   "cell_type": "code",
   "execution_count": null,
   "id": "765e0a2b",
   "metadata": {},
   "outputs": [],
   "source": [
    "size=int(len(df)*0.8)\n",
    "df_train=df.iloc[:size]\n",
    "df_test=df.iloc[size:]"
   ]
  },
  {
   "cell_type": "code",
   "execution_count": null,
   "id": "961de1aa",
   "metadata": {},
   "outputs": [],
   "source": [
    "df_train.size,df_test.size"
   ]
  },
  {
   "cell_type": "code",
   "execution_count": null,
   "id": "37caf9ef",
   "metadata": {},
   "outputs": [],
   "source": [
    "df_test.shape"
   ]
  },
  {
   "cell_type": "markdown",
   "id": "e66a4206",
   "metadata": {},
   "source": [
    "#### Simple Exponential Smoothing "
   ]
  },
  {
   "cell_type": "code",
   "execution_count": null,
   "id": "ecb48670",
   "metadata": {},
   "outputs": [],
   "source": [
    "from statsmodels.tsa.holtwinters import ExponentialSmoothing"
   ]
  },
  {
   "cell_type": "code",
   "execution_count": null,
   "id": "dbd1dd5d",
   "metadata": {},
   "outputs": [],
   "source": [
    "fitted_model=ExponentialSmoothing(df_train[\"market_value\"],trend='mul',seasonal='mul',seasonal_periods=2).fit()"
   ]
  },
  {
   "cell_type": "code",
   "execution_count": null,
   "id": "454db863",
   "metadata": {},
   "outputs": [],
   "source": [
    "test_prediction=fitted_model.forecast(1256)"
   ]
  },
  {
   "cell_type": "code",
   "execution_count": null,
   "id": "da83d691",
   "metadata": {},
   "outputs": [],
   "source": [
    "df_train[\"market_value\"].plot(legend=True,label=\"train\",figsize=(18,6))\n",
    "df_test[\"market_value\"].plot(legend=True,label=\"test\",figsize=(18,6))\n",
    "plt.show()"
   ]
  },
  {
   "cell_type": "code",
   "execution_count": null,
   "id": "995ec927",
   "metadata": {},
   "outputs": [],
   "source": [
    "df_train[\"market_value\"].plot(legend=True,label=\"traint\",figsize=(18,6))\n",
    "df_test[\"market_value\"].plot(legend=True,label=\"test\",figsize=(18,6))\n",
    "test_prediction.plot(legend=True,label=\"pred\")\n",
    "plt.show()"
   ]
  },
  {
   "cell_type": "code",
   "execution_count": null,
   "id": "4d50a143",
   "metadata": {},
   "outputs": [],
   "source": [
    "df_train[\"market_value\"].plot(legend=True,label=\"traint\",figsize=(18,6))\n",
    "df_test[\"market_value\"].plot(legend=True,label=\"test\",figsize=(18,6))\n",
    "test_prediction.plot(legend=True,label=\"pred\",xlim=[\"2013-04-08 \",\"2018-01-29\"])\n",
    "plt.show()"
   ]
  },
  {
   "cell_type": "code",
   "execution_count": null,
   "id": "065a6609",
   "metadata": {},
   "outputs": [],
   "source": [
    "from sklearn.metrics import mean_squared_error,mean_absolute_error"
   ]
  },
  {
   "cell_type": "code",
   "execution_count": null,
   "id": "ee6df8c5",
   "metadata": {},
   "outputs": [],
   "source": [
    "MSE1=mean_squared_error(df_test[\"market_value\"],test_prediction)\n",
    "print(np.sqrt(MSE1))"
   ]
  },
  {
   "cell_type": "code",
   "execution_count": null,
   "id": "02076d5f",
   "metadata": {},
   "outputs": [],
   "source": [
    "MAE=mean_absolute_error(df_test[\"market_value\"],test_prediction)\n",
    "MAE"
   ]
  },
  {
   "cell_type": "code",
   "execution_count": null,
   "id": "aab6d30d",
   "metadata": {},
   "outputs": [],
   "source": []
  },
  {
   "cell_type": "code",
   "execution_count": null,
   "id": "503c62cb",
   "metadata": {},
   "outputs": [],
   "source": []
  },
  {
   "cell_type": "code",
   "execution_count": null,
   "id": "7859856f",
   "metadata": {},
   "outputs": [],
   "source": [
    "final_model=ExponentialSmoothing(df[\"market_value\"],trend='mul',seasonal='mul',seasonal_periods=2).fit()"
   ]
  },
  {
   "cell_type": "code",
   "execution_count": null,
   "id": "6470038b",
   "metadata": {},
   "outputs": [],
   "source": [
    "test_prediction1=final_model.forecast(360)"
   ]
  },
  {
   "cell_type": "code",
   "execution_count": null,
   "id": "231390f7",
   "metadata": {},
   "outputs": [],
   "source": [
    "df['market_value'].plot(figsize=(18,4))\n",
    "test_prediction1.plot()\n",
    "plt.show()"
   ]
  },
  {
   "cell_type": "code",
   "execution_count": null,
   "id": "1dc6e6cf",
   "metadata": {},
   "outputs": [],
   "source": []
  },
  {
   "cell_type": "markdown",
   "id": "e7a2a57e",
   "metadata": {},
   "source": [
    "### AutoRegression"
   ]
  },
  {
   "cell_type": "code",
   "execution_count": null,
   "id": "88b44507",
   "metadata": {},
   "outputs": [],
   "source": [
    "from pandas.plotting import autocorrelation_plot\n",
    "autocorrelation_plot(df['market_value'])\n",
    "plt.show()"
   ]
  },
  {
   "cell_type": "code",
   "execution_count": null,
   "id": "29e42fee",
   "metadata": {},
   "outputs": [],
   "source": [
    "from statsmodels.tsa.ar_model import AR,ARResults"
   ]
  },
  {
   "cell_type": "code",
   "execution_count": null,
   "id": "1486fb0c",
   "metadata": {},
   "outputs": [],
   "source": [
    "start=len(df_train)\n",
    "end=len(df_train) + len(df_test)-1"
   ]
  },
  {
   "cell_type": "code",
   "execution_count": null,
   "id": "0e357fdb",
   "metadata": {},
   "outputs": [],
   "source": [
    "model=AR(df_train['market_value'])"
   ]
  },
  {
   "cell_type": "code",
   "execution_count": null,
   "id": "ace246b8",
   "metadata": {},
   "outputs": [],
   "source": [
    "AR_fit=model.fit(maxlag=1)"
   ]
  },
  {
   "cell_type": "code",
   "execution_count": null,
   "id": "8904428f",
   "metadata": {},
   "outputs": [],
   "source": [
    "AR_fit.params"
   ]
  },
  {
   "cell_type": "code",
   "execution_count": null,
   "id": "b0bf12e9",
   "metadata": {},
   "outputs": [],
   "source": [
    "prediction=AR_fit.predict(start=start, end=end)"
   ]
  },
  {
   "cell_type": "code",
   "execution_count": null,
   "id": "05d584e5",
   "metadata": {},
   "outputs": [],
   "source": [
    "df_test.head()"
   ]
  },
  {
   "cell_type": "code",
   "execution_count": null,
   "id": "582c4061",
   "metadata": {},
   "outputs": [],
   "source": [
    "df_test['market_value'].plot(legend=True,figsize=(16,4),label=\"test\")\n",
    "prediction.plot(legend=True,label=\"predict\")\n",
    "plt.show()"
   ]
  },
  {
   "cell_type": "code",
   "execution_count": null,
   "id": "bab81d4d",
   "metadata": {},
   "outputs": [],
   "source": [
    "model2=AR(df_train['market_value'])\n",
    "AR_fit2=model2.fit(maxlag=2)\n",
    "prediction2=AR_fit2.predict(start=start, end=end)\n",
    "df_test['market_value'].plot(legend=True,figsize=(16,4),label=\"test\")\n",
    "prediction.plot(legend=True,label=\"predict\")\n",
    "prediction2.plot(legend=True,label=\"predict2\")\n",
    "plt.show()"
   ]
  },
  {
   "cell_type": "code",
   "execution_count": null,
   "id": "710689a6",
   "metadata": {},
   "outputs": [],
   "source": [
    "model3=AR(df_train['market_value'])"
   ]
  },
  {
   "cell_type": "code",
   "execution_count": null,
   "id": "f81b92d3",
   "metadata": {},
   "outputs": [],
   "source": [
    "ARfit=model3.fit(ic='t-stat')"
   ]
  },
  {
   "cell_type": "code",
   "execution_count": null,
   "id": "c2fff106",
   "metadata": {},
   "outputs": [],
   "source": [
    "ARfit.params"
   ]
  },
  {
   "cell_type": "code",
   "execution_count": null,
   "id": "e1dcada9",
   "metadata": {},
   "outputs": [],
   "source": [
    "model4=AR(df_train['market_value'])\n",
    "AR_fit4=model4.fit(maxlag=28)\n",
    "prediction4=AR_fit4.predict(start=start, end=end)\n",
    "df_test['market_value'].plot(legend=True,figsize=(16,4),label=\"test\")\n",
    "prediction.plot(legend=True,label=\"predict\")\n",
    "prediction2.plot(legend=True,label=\"predict2\")\n",
    "prediction4.plot(legend=True,label=\"predict4\")\n",
    "plt.show()"
   ]
  },
  {
   "cell_type": "code",
   "execution_count": null,
   "id": "9ee98ef7",
   "metadata": {},
   "outputs": [],
   "source": [
    "label=['AR1','AR2','AR28']\n",
    "prds=[prediction,prediction2,prediction4]\n",
    "for i in range(3):\n",
    "    error=np.sqrt(mean_squared_error(df_test[\"market_value\"],prds[i]))\n",
    "    print(f'{label[i]} MSE was: {error}')"
   ]
  },
  {
   "cell_type": "code",
   "execution_count": null,
   "id": "72cbbf15",
   "metadata": {},
   "outputs": [],
   "source": []
  },
  {
   "cell_type": "code",
   "execution_count": null,
   "id": "1cb9cb6d",
   "metadata": {},
   "outputs": [],
   "source": [
    "#Forecasting"
   ]
  },
  {
   "cell_type": "code",
   "execution_count": null,
   "id": "12f116f5",
   "metadata": {},
   "outputs": [],
   "source": [
    "final_model=AR(df['market_value'])\n",
    "AR_fit=final_model.fit()\n",
    "forcast_value=AR_fit.predict(start=len(df), end=len(df)+360)"
   ]
  },
  {
   "cell_type": "code",
   "execution_count": null,
   "id": "499d2994",
   "metadata": {},
   "outputs": [],
   "source": [
    "df['market_value'].plot(figsize=(14,4))\n",
    "forcast_value.plot()\n",
    "plt.plot()"
   ]
  },
  {
   "cell_type": "markdown",
   "id": "98a7c6d8",
   "metadata": {},
   "source": [
    "##### causalitytests"
   ]
  },
  {
   "cell_type": "code",
   "execution_count": null,
   "id": "f1c44610",
   "metadata": {},
   "outputs": [],
   "source": []
  },
  {
   "cell_type": "code",
   "execution_count": null,
   "id": "ab261889",
   "metadata": {},
   "outputs": [],
   "source": [
    "from statsmodels.tsa.stattools import grangercausalitytests"
   ]
  },
  {
   "cell_type": "code",
   "execution_count": null,
   "id": "93924c9b",
   "metadata": {},
   "outputs": [],
   "source": [
    "grangercausalitytests(df[[\"market_value\",\"diff_1\"]],maxlag=3)"
   ]
  },
  {
   "cell_type": "code",
   "execution_count": null,
   "id": "892b3f4b",
   "metadata": {},
   "outputs": [],
   "source": []
  },
  {
   "cell_type": "code",
   "execution_count": null,
   "id": "976d28c0",
   "metadata": {},
   "outputs": [],
   "source": [
    "#Month"
   ]
  },
  {
   "cell_type": "code",
   "execution_count": null,
   "id": "ec6e6327",
   "metadata": {},
   "outputs": [],
   "source": [
    "# from statsmodels.graphics.tsaplots import month_plot,quarter_plot,\n",
    "# quarter_plot(df[\"market_value\"]);"
   ]
  },
  {
   "cell_type": "code",
   "execution_count": null,
   "id": "47138263",
   "metadata": {},
   "outputs": [],
   "source": []
  },
  {
   "cell_type": "code",
   "execution_count": null,
   "id": "443265f5",
   "metadata": {},
   "outputs": [],
   "source": []
  },
  {
   "cell_type": "code",
   "execution_count": null,
   "id": "53cde534",
   "metadata": {},
   "outputs": [],
   "source": [
    "from statsmodels.tsa.arima_model import ARMA"
   ]
  },
  {
   "cell_type": "code",
   "execution_count": null,
   "id": "33674120",
   "metadata": {},
   "outputs": [],
   "source": [
    "model_ar = ARMA(df_train.market_value, order=(1,0))\n",
    "results_ar = model_ar.fit()\n",
    "results_ar.summary()"
   ]
  },
  {
   "cell_type": "code",
   "execution_count": null,
   "id": "8afe9397",
   "metadata": {},
   "outputs": [],
   "source": []
  },
  {
   "cell_type": "code",
   "execution_count": null,
   "id": "63df3aea",
   "metadata": {},
   "outputs": [],
   "source": [
    "predict=results_ar.predict(start=start, end=end)\n",
    "df_test['market_value'].plot(legend=True,figsize=(16,4),label=\"test\")\n",
    "predict.plot(legend=True,label=\"predict\")\n",
    "plt.show()"
   ]
  },
  {
   "cell_type": "code",
   "execution_count": null,
   "id": "47bc3dde",
   "metadata": {},
   "outputs": [],
   "source": [
    "# ARfit=model3.fit(ic='t-stat')\n",
    "# ARfit.params"
   ]
  },
  {
   "cell_type": "code",
   "execution_count": null,
   "id": "152db9f4",
   "metadata": {},
   "outputs": [],
   "source": [
    "model_ar_1 = ARMA(df.market_value, order=(1,0))\n",
    "results_ar_1 = model_ar_1.fit()\n",
    "results_ar_1.summary()"
   ]
  },
  {
   "cell_type": "code",
   "execution_count": null,
   "id": "df2c036a",
   "metadata": {},
   "outputs": [],
   "source": [
    "model_ar_2 = ARMA(df.market_value, order=(2,0))\n",
    "results_ar_2 = model_ar_2.fit()\n",
    "results_ar_2.summary()"
   ]
  },
  {
   "cell_type": "code",
   "execution_count": null,
   "id": "dd1e2cdc",
   "metadata": {},
   "outputs": [],
   "source": []
  },
  {
   "cell_type": "markdown",
   "id": "a55261e5",
   "metadata": {},
   "source": [
    "#### LLR test"
   ]
  },
  {
   "cell_type": "code",
   "execution_count": null,
   "id": "ea288e7d",
   "metadata": {},
   "outputs": [],
   "source": [
    "def LLR_test(mod_1, mod_2, DF=1):\n",
    "    L1 = mod_1.fit().llf\n",
    "    L2 = mod_2.fit().llf\n",
    "    LR = (2*(L2-L1))\n",
    "    p = chi2.sf(LR, DF).round(3)\n",
    "    return p"
   ]
  },
  {
   "cell_type": "code",
   "execution_count": null,
   "id": "75a4701e",
   "metadata": {},
   "outputs": [],
   "source": []
  },
  {
   "cell_type": "code",
   "execution_count": null,
   "id": "5567dd88",
   "metadata": {},
   "outputs": [],
   "source": [
    "LLR_test(model_ar_1, model_ar_2)"
   ]
  },
  {
   "cell_type": "code",
   "execution_count": null,
   "id": "58f198ed",
   "metadata": {},
   "outputs": [],
   "source": [
    "print(\"LLR test: \" + str(LLR_test(model_ar, model_ar_7, DF = 6)))\n",
    "# if you comparing this you should increase your DF"
   ]
  },
  {
   "cell_type": "code",
   "execution_count": null,
   "id": "39409e92",
   "metadata": {},
   "outputs": [],
   "source": []
  },
  {
   "cell_type": "markdown",
   "id": "2def48b5",
   "metadata": {},
   "source": [
    "#### ARIMA "
   ]
  },
  {
   "cell_type": "code",
   "execution_count": null,
   "id": "3ce72bdf",
   "metadata": {},
   "outputs": [],
   "source": [
    "model_arima = ARIMA(df_train.market_value, order=(1,1,1))\n",
    "results = model_arima.fit()\n",
    "results.summary()"
   ]
  },
  {
   "cell_type": "code",
   "execution_count": null,
   "id": "1df57ddf",
   "metadata": {},
   "outputs": [],
   "source": [
    "# Obtain predicted values\n",
    "start=len(df_train)\n",
    "end=len(df_train)+len(df_test)-1\n",
    "predictions = results.predict(start=start, end=end, dynamic=False, typ='levels').rename('ARIMA(1,1,1) Predictions')"
   ]
  },
  {
   "cell_type": "code",
   "execution_count": null,
   "id": "0a994a38",
   "metadata": {},
   "outputs": [],
   "source": [
    "##Plot"
   ]
  },
  {
   "cell_type": "code",
   "execution_count": null,
   "id": "017670b1",
   "metadata": {},
   "outputs": [],
   "source": [
    "# Compare predictions to expected values\n",
    "for i in range(len(predictions)):\n",
    "    print(f\"predicted={predictions[i]:<11.10}, expected={df_test['market_value'][i]}\")"
   ]
  },
  {
   "cell_type": "code",
   "execution_count": null,
   "id": "f6b83d93",
   "metadata": {},
   "outputs": [],
   "source": [
    "# Plot predictions against known values\n",
    "title = 'Real Manufacturing and Trade Inventories'\n",
    "ylabel='Chained 2012 Dollars'\n",
    "xlabel='' # we don't really need a label here\n",
    "\n",
    "ax = df_test['market_value'].plot(legend=True,figsize=(12,6),title=title)\n",
    "predictions.plot(legend=True)\n",
    "ax.autoscale(axis='x',tight=True)\n",
    "ax.set(xlabel=xlabel, ylabel=ylabel)\n"
   ]
  },
  {
   "cell_type": "code",
   "execution_count": null,
   "id": "2b9b9cc6",
   "metadata": {},
   "outputs": [],
   "source": [
    "from sklearn.metrics import mean_squared_error\n",
    "\n",
    "error = mean_squared_error(df_test['market_value'], predictions)\n",
    "print(f'ARIMA(1,1,1) MSE Error: {error:11.10}')"
   ]
  },
  {
   "cell_type": "code",
   "execution_count": null,
   "id": "f7db9fe4",
   "metadata": {},
   "outputs": [],
   "source": []
  },
  {
   "cell_type": "code",
   "execution_count": null,
   "id": "7341e77a",
   "metadata": {},
   "outputs": [],
   "source": [
    "###auto arima"
   ]
  },
  {
   "cell_type": "code",
   "execution_count": null,
   "id": "86acab73",
   "metadata": {},
   "outputs": [],
   "source": [
    "stepwise_fit = auto_arima(df1['Thousands of Passengers'], start_p=1, start_q=1,\n",
    "                          max_p=3, max_q=3, m=12,\n",
    "                          start_P=0, seasonal=True,\n",
    "                          d=None, D=1, trace=True,\n",
    "                          error_action='ignore',   # we don't want to know if an order does not work\n",
    "                          suppress_warnings=True,  # we don't want convergence warnings\n",
    "                          stepwise=True)           # set to stepwise\n",
    "\n",
    "stepwise_fit.summary()"
   ]
  },
  {
   "cell_type": "markdown",
   "id": "9845d8df",
   "metadata": {},
   "source": [
    "#### Forcast"
   ]
  },
  {
   "cell_type": "code",
   "execution_count": null,
   "id": "546555da",
   "metadata": {},
   "outputs": [],
   "source": [
    "model = ARIMA(df.market_value,order=(1,1,1))\n",
    "results = model.fit()\n",
    "fcast = results.predict(len(df),len(df)+360,typ='levels').rename('ARIMA(1,1,1) Forecast')"
   ]
  },
  {
   "cell_type": "code",
   "execution_count": null,
   "id": "36c0770d",
   "metadata": {},
   "outputs": [],
   "source": [
    "# Plot predictions against known values\n",
    "title = 'Real Manufacturing and Trade Inventories'\n",
    "ylabel='Chained 2012 Dollars'\n",
    "xlabel='' # we don't really need a label here\n",
    "\n",
    "ax = df.market_value.plot(legend=True,figsize=(12,6),title=title)\n",
    "fcast.plot(legend=True)\n",
    "ax.autoscale(axis='x',tight=True)\n",
    "ax.set(xlabel=xlabel, ylabel=ylabel)\n"
   ]
  },
  {
   "cell_type": "code",
   "execution_count": null,
   "id": "11a863d8",
   "metadata": {},
   "outputs": [],
   "source": []
  }
 ],
 "metadata": {
  "kernelspec": {
   "display_name": "Python 3",
   "language": "python",
   "name": "python3"
  },
  "language_info": {
   "codemirror_mode": {
    "name": "ipython",
    "version": 3
   },
   "file_extension": ".py",
   "mimetype": "text/x-python",
   "name": "python",
   "nbconvert_exporter": "python",
   "pygments_lexer": "ipython3",
   "version": "3.6.9"
  }
 },
 "nbformat": 4,
 "nbformat_minor": 5
}
